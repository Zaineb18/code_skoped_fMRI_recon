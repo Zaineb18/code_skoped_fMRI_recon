{
 "cells": [
  {
   "cell_type": "code",
   "execution_count": null,
   "id": "45bf0807-1651-4ed9-b7f1-d8972d90c12f",
   "metadata": {
    "tags": []
   },
   "outputs": [],
   "source": [
    "import numpy as np \n",
    "import matplotlib.pyplot as plt "
   ]
  },
  {
   "cell_type": "code",
   "execution_count": null,
   "id": "375e00b5-aee9-4884-9005-ac5cf445e36b",
   "metadata": {},
   "outputs": [],
   "source": [
    "import nibabel as nib\n",
    "z_noCorr = nib.load(\"/neurospin/lrmn/people/Zaineb_Amor/DataJuly2022/InVivo_cr170417_06072022/Niftis/sub_cr/stat/effe_int_noCorr.nii\")\n",
    "z_B0 = nib.load(\"/neurospin/lrmn/people/Zaineb_Amor/DataJuly2022/InVivo_cr170417_06072022/Niftis/sub_cr/stat/effe_int_withB0.nii\")\n",
    "z_B0k0kxyz = nib.load(\"/neurospin/lrmn/people/Zaineb_Amor/DataJuly2022/InVivo_cr170417_06072022/Niftis/sub_cr/stat/effe_int_withB0k0kxyz.nii\")\n",
    "t1 = nib.load(\"/neurospin/lrmn/people/Zaineb_Amor/DataJuly2022/InVivo_cr170417_06072022/Niftis/sub_cr/anat/subcr_T1.nii\")\n",
    "from nilearn.glm import threshold_stats_img\n",
    "from nilearn.plotting import plot_stat_map, plot_anat, plot_img\n",
    "\n",
    "\n",
    "_, threshold = threshold_stats_img(z_noCorr, alpha=0.001, height_control='fpr')\n",
    "print(threshold)\n",
    "cuts=(-28,-27,-26)\n",
    "plot_stat_map(z_noCorr, bg_img=t1, threshold=threshold, draw_cross=False, vmax=12, \n",
    "              output_file=\"/neurospin/lrmn/people/Zaineb_Amor/DataJuly2022/InVivo_cr170417_06072022/Niftis/sub_cr/noCorr_eff.png\",\n",
    "              display_mode=\"z\", cut_coords=cuts)\n",
    "\n",
    "\n",
    "_, threshold = threshold_stats_img(z_B0, alpha=0.001, height_control='fpr')\n",
    "print(threshold)\n",
    "plot_stat_map(z_B0, bg_img=t1, threshold=threshold, draw_cross=False, vmax=12,  \n",
    "              output_file=\"/neurospin/lrmn/people/Zaineb_Amor/DataJuly2022/InVivo_cr170417_06072022/Niftis/sub_cr/B0_eff.png\",\n",
    "             display_mode=\"z\",\n",
    "               #title=\"3D-SPARKLING \\np<0.001(uncorrected)\", \n",
    "              cut_coords=cuts)\n",
    "\n",
    "_, threshold = threshold_stats_img(z_B0k0kxyz, alpha=0.001, height_control='fpr')\n",
    "print(threshold)\n",
    "plot_stat_map(z_B0k0kxyz, bg_img=t1, threshold=threshold, draw_cross=False, vmax=12, \n",
    "              output_file=\"/neurospin/lrmn/people/Zaineb_Amor/DataJuly2022/InVivo_cr170417_06072022/Niftis/sub_cr/B0k0kxyz_eff.png\",\n",
    "             display_mode=\"z\",\n",
    "               #title=\"3D-SPARKLING \\np<0.001(uncorrected)\", \n",
    "              cut_coords=cuts)\n",
    "\n"
   ]
  },
  {
   "cell_type": "code",
   "execution_count": null,
   "id": "ef2fd902-9086-422d-99d5-a6cf3e51a1b6",
   "metadata": {
    "tags": []
   },
   "outputs": [],
   "source": [
    "import numpy as np \n",
    "import matplotlib.pyplot as plt \n",
    "tsnr1 = np.load(\"/neurospin/optimed/ZainebAmor/InVivoData_JanuaryFebruaryMarch2022/Donnees10032022_invivo_at140305/tsnr_vols/no_corr.npy\")\n",
    "tsnr2 = np.load(\"/neurospin/lrmn/people/Zaineb_Amor/DataJuin2022/InvivoData_2302022_ep220179/tSNR_Mean/tSNR_noCorr.npy\")\n",
    "tsnr3 = np.load(\"/neurospin/lrmn/people/Zaineb_Amor/DataJuly2022/InVivo_cr170417_06072022/tSNR_Mean/RS/tSNR_noCorr.npy\")\n",
    "tsnr4 = np.load(\"/neurospin/lrmn/people/Zaineb_Amor/DataJuly2022/InVivo_cr170417_06072022/tSNR_Mean/tSNR_noCorr.npy\")\n",
    "tsnr5 = np.load(\"/neurospin/lrmn/people/Zaineb_Amor/DataJuly2022/InVivo_cr170417_06072022/tSNR_Mean/RS_mvt/tSNR_noCorr.npy\")\n",
    "tsnr6 = np.load(\"/neurospin/optimed/ZainebAmor/InVivoData_JanuaryFebruaryMarch2022/Donnees10032022_invivo_at140305/tsnr_vols/B0k0kxyz_corr.npy\")\n",
    "tsnr7 = np.load(\"/neurospin/lrmn/people/Zaineb_Amor/DataJuin2022/InvivoData_2302022_ep220179/tSNR_Mean/tSNR_withB0k0kxyz.npy\")\n",
    "tsnr8 = np.load(\"/neurospin/lrmn/people/Zaineb_Amor/DataJuly2022/InVivo_cr170417_06072022/tSNR_Mean/RS/tSNR_withB0k0kxyz.npy\")\n",
    "tsnr9 = np.load(\"/neurospin/lrmn/people/Zaineb_Amor/DataJuly2022/InVivo_cr170417_06072022/tSNR_Mean/tSNR_withB0k0kxyz.npy\")\n",
    "tsnr10 = np.load(\"/neurospin/lrmn/people/Zaineb_Amor/DataJuly2022/InVivo_cr170417_06072022/tSNR_Mean/RS_mvt/tSNR_withB0k0kxyz.npy\")\n",
    "#tsnr = [tsnr1, tsnr2, tsnr3, tsnr4, tsnr5, tsnr6, tsnr7, tsnr8, tsnr9, tsnr10]\n",
    "tsnr = [tsnr1, tsnr6, tsnr2, tsnr7, tsnr3, tsnr8, tsnr4, tsnr9, tsnr5, tsnr10]\n",
    "fig, axes = plt.subplots(nrows=5, ncols=2, constrained_layout=True, figsize=(12,30), facecolor=(1,1,1))\n",
    "i=0\n",
    "for ax in axes.flat:\n",
    "    print(ax)\n",
    "    m = np.mean(tsnr[i])\n",
    "    s = np.std(tsnr[i])\n",
    "    im = ax.pcolormesh(tsnr[i][:,::-1,64], cmap = \"jet\",\n",
    "                       #vmin=m-1*s,\n",
    "                       vmax=50 \n",
    "                      )\n",
    "    ax.set_yticks([])\n",
    "    ax.set_xticks([])\n",
    "    if i==0: \n",
    "        ax.set_title(\"No correction\", fontsize=28)\n",
    "        ax.set_ylabel(\"#1\", fontsize=30 )\n",
    "    if i==2: \n",
    "        ax.set_ylabel(\"#2\", fontsize=28)\n",
    "    if i==4:\n",
    "        ax.set_ylabel(\"#3\", fontsize=28)\n",
    "    if i==6:\n",
    "        ax.set_ylabel(\"#3 - Forced breathing\", fontsize=28)\n",
    "    if i==8:\n",
    "        ax.set_ylabel(\"#3 - Hand-to-chin movement\", fontsize=28)\n",
    "    if i==1: \n",
    "        #ax.set_ylabel(r\"$\\Delta B_{0,stat}~ &~ \\Delta B_{0,dyn}~ &~ \\delta \\mathbf{k} $\", fontsize=20, labelpad=50)\n",
    "        ax.set_title(r'$\\Delta B_{0,stat}$ & $\\Delta B_{0,dyn}$ & $\\delta\\mathbf{k}$', fontsize=28)\n",
    "    i+=1\n",
    "\n",
    "fig.colorbar(im, ax=axes.flatten())\n",
    "plt.show()\n",
    "fig.savefig(\"/neurospin/lrmn/people/Zaineb_Amor/DataJuly2022/tsnr_3sub_hbm.png\", dpi=600)"
   ]
  },
  {
   "cell_type": "code",
   "execution_count": null,
   "id": "7ce74003-12da-4578-a133-b750de84c2f0",
   "metadata": {
    "tags": []
   },
   "outputs": [],
   "source": [
    "tsnr1 = np.load(\"/neurospin/optimed/ZainebAmor/InVivoData_JanuaryFebruaryMarch2022/Donnees10032022_invivo_at140305/tsnr_vols/B0_corr_mean.npy\")\n",
    "tsnr2 = np.load(\"/neurospin/optimed/ZainebAmor/InVivoData_JanuaryFebruaryMarch2022/Donnees10032022_invivo_at140305/tsnr_vols/noCorr_corr_mean.npy\")"
   ]
  },
  {
   "cell_type": "code",
   "execution_count": null,
   "id": "aec33527-d870-412c-bde8-0176c1d0ccfc",
   "metadata": {
    "tags": []
   },
   "outputs": [],
   "source": [
    "plt.figure(figsize=(10,10))\n",
    "plt.subplot(1,2,1)\n",
    "plt.imshow(tsnr1[::-1,::-1,64], cmap='gray')\n",
    "plt.subplot(1,2,2)\n",
    "plt.imshow(tsnr2[::-1,::-1,64], cmap='gray')"
   ]
  },
  {
   "cell_type": "code",
   "execution_count": null,
   "id": "7a4e00b5-c989-464f-91d2-220de3c0836e",
   "metadata": {
    "tags": []
   },
   "outputs": [],
   "source": [
    "import numpy as np \n",
    "import matplotlib.pyplot as plt \n",
    "tsnr1 = np.load(\"/neurospin/optimed/ZainebAmor/InVivoData_JanuaryFebruaryMarch2022/Donnees10032022_invivo_at140305/tsnr_vols/noCorr_corr_mean.npy\")\n",
    "tsnr2 = np.load(\"/neurospin/lrmn/people/Zaineb_Amor/DataJuin2022/InvivoData_2302022_ep220179/tSNR_Mean/noCorr.npy\")\n",
    "tsnr3 = np.load(\"/neurospin/lrmn/people/Zaineb_Amor/DataJuly2022/InVivo_cr170417_06072022/tSNR_Mean/RS/noCorr.npy\")\n",
    "tsnr4 = np.load(\"/neurospin/lrmn/people/Zaineb_Amor/DataJuly2022/InVivo_cr170417_06072022/tSNR_Mean/no_Corr.npy\")\n",
    "tsnr5 = np.load(\"/neurospin/lrmn/people/Zaineb_Amor/DataJuly2022/InVivo_cr170417_06072022/tSNR_Mean/RS_mvt/no_Corr.npy\")\n",
    "tsnr6 = np.load(\"/neurospin/optimed/ZainebAmor/InVivoData_JanuaryFebruaryMarch2022/Donnees10032022_invivo_at140305/tsnr_vols/B0k0kxyz_corr_mean.npy\")\n",
    "tsnr7 = np.load(\"/neurospin/lrmn/people/Zaineb_Amor/DataJuin2022/InvivoData_2302022_ep220179/tSNR_Mean/withB0k0kxyz.npy\")\n",
    "tsnr8 = np.load(\"/neurospin/lrmn/people/Zaineb_Amor/DataJuly2022/InVivo_cr170417_06072022/tSNR_Mean/RS/wihB0k0kxyz.npy\")\n",
    "tsnr9 = np.load(\"/neurospin/lrmn/people/Zaineb_Amor/DataJuly2022/InVivo_cr170417_06072022/tSNR_Mean/withB0k0kxyz.npy\")\n",
    "tsnr10 = np.load(\"/neurospin/lrmn/people/Zaineb_Amor/DataJuly2022/InVivo_cr170417_06072022/tSNR_Mean/RS_mvt/withB0k0kxyz.npy\")\n",
    "tsnr = [tsnr1, tsnr6, tsnr2, tsnr7, tsnr3, tsnr8, tsnr4, tsnr9, tsnr5, tsnr10]\n",
    "\n",
    "fig, axes = plt.subplots(nrows=5, ncols=2, constrained_layout=True, figsize=(12,30), facecolor=(0,0,0))\n",
    "i=0\n",
    "for ax in axes.flat:\n",
    "    print(ax)\n",
    "    m = np.mean(tsnr[i])\n",
    "    s = np.std(tsnr[i])\n",
    "    im = ax.pcolormesh(tsnr[i][:,::-1,64], cmap = \"gray\",\n",
    "                       vmin=m-1*s,\n",
    "                       #vmax=50 \n",
    "                      )\n",
    "    ax.set_yticks([])\n",
    "    ax.set_xticks([])\n",
    "    if i==0: \n",
    "        ax.set_title(\"No correction\", fontsize=28, color=(1,1,1))\n",
    "        ax.set_ylabel(\"#1\", fontsize=30, color=(1,1,1))\n",
    "    if i==2: \n",
    "        ax.set_ylabel(\"#2\", fontsize=28, color=(1,1,1))\n",
    "    if i==4:\n",
    "        ax.set_ylabel(\"#3\", fontsize=28, color=(1,1,1))\n",
    "    if i==6:\n",
    "        ax.set_ylabel(\"#3 - Forced breathing\", fontsize=28, color=(1,1,1))\n",
    "    if i==8:\n",
    "        ax.set_ylabel(\"#3 - Hand-to-chin movement\", fontsize=28, color=(1,1,1))\n",
    "    if i==1: \n",
    "        #ax.set_ylabel(r\"$\\Delta B_{0,stat}~ &~ \\Delta B_{0,dyn}~ &~ \\delta \\mathbf{k} $\", fontsize=20, labelpad=50)\n",
    "        ax.set_title(r'$\\Delta B_{0,stat}$ & $\\Delta B_{0,dyn}$ & $\\delta\\mathbf{k}$', fontsize=28, color=(1,1,1))\n",
    "    i+=1\n",
    "\n",
    "#fig.colorbar(im, ax=axes.flat)\n",
    "plt.show()\n",
    "fig.savefig(\"/neurospin/lrmn/people/Zaineb_Amor/DataJuly2022/imgquality_3sub_hbm.png\", dpi=300)"
   ]
  },
  {
   "cell_type": "code",
   "execution_count": null,
   "id": "9ae33b6a-82d2-4da8-a95a-2c7de4c86678",
   "metadata": {},
   "outputs": [],
   "source": [
    "import numpy as np \n",
    "import matplotlib.pyplot as plt \n",
    "tsnr1 = np.load(\"/neurospin/optimed/ZainebAmor/InVivoData_JanuaryFebruaryMarch2022/Donnees10032022_invivo_at140305/tsnr_vols/no_corr.npy\")\n",
    "tsnr6 = np.load(\"/neurospin/optimed/ZainebAmor/InVivoData_JanuaryFebruaryMarch2022/Donnees10032022_invivo_at140305/tsnr_vols/B0k0kxyz_corr.npy\")\n",
    "tsnr = [tsnr1, tsnr6]\n",
    "\n",
    "fig, axes = plt.subplots(nrows=1, ncols=2, constrained_layout=True, figsize=(8,4), facecolor=(1,1,1))\n",
    "i=0\n",
    "for ax in axes.flat:\n",
    "    print(ax)\n",
    "    m = np.mean(tsnr[i])\n",
    "    s = np.std(tsnr[i])\n",
    "    ax.set_xticks([])\n",
    "    ax.set_yticks([])\n",
    "    im = ax.pcolormesh(tsnr[i][:,::-1,60], cmap = \"jet\",\n",
    "                       #vmin=m-1*s,\n",
    "                       vmax=50 \n",
    "                      )\n",
    "    i+=1\n",
    "\n",
    "fig.colorbar(im, ax=axes.flat)\n",
    "plt.show()\n",
    "fig.savefig(\"/neurospin/lrmn/people/Zaineb_Amor/at_tsnr.png\")"
   ]
  },
  {
   "cell_type": "markdown",
   "id": "feb262c8-1d2e-4fe2-af20-15a3ffd21056",
   "metadata": {},
   "source": [
    "Other visualization"
   ]
  }
 ],
 "metadata": {
  "kernelspec": {
   "display_name": "Python 3 (ipykernel)",
   "language": "python",
   "name": "python3"
  },
  "language_info": {
   "codemirror_mode": {
    "name": "ipython",
    "version": 3
   },
   "file_extension": ".py",
   "mimetype": "text/x-python",
   "name": "python",
   "nbconvert_exporter": "python",
   "pygments_lexer": "ipython3",
   "version": "3.10.4"
  }
 },
 "nbformat": 4,
 "nbformat_minor": 5
}
