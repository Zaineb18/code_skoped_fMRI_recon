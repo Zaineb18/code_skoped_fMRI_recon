{
 "cells": [
  {
   "cell_type": "code",
   "execution_count": null,
   "metadata": {},
   "outputs": [],
   "source": [
    "import sys\n",
    "sys.path.append(\"../\")\n",
    "import importlib\n",
    "\n",
    "from src.fourier_wrapper import FourierWrapper\n",
    "from src.display import (display_image_differences,\n",
    "                         display_image_metrics)\n",
    "from src.process import (virtual_coil_combination,\n",
    "                         virtual_coil_combination_gpu,\n",
    "                         adaptive_coil_combination,\n",
    "                         adaptive_coil_combination_gpu)\n",
    "from src.utils import (_DATABASE,\n",
    "                       find_shifts,\n",
    "                       create_mask,\n",
    "                       shift_kspace,\n",
    "                       generate_path,\n",
    "                       load_metadata,\n",
    "                       low_pass_filter,\n",
    "                       load_kspace_data,\n",
    "                       load_kspace_locations,\n",
    "                       load_phase_from_dicom,\n",
    "                       load_magnitude_from_dicom,\n",
    "                       load_field_map_from_dicom)\n",
    "\n",
    "from modopt.opt.linear import Identity\n",
    "from modopt.opt.proximity import SparseThreshold, GroupLASSO\n",
    "from modopt.math.metrics import ssim, psnr, mse\n",
    "from mri.operators import FFT, WaveletN, OWL\n",
    "from mri.operators.fourier.non_cartesian import Stacked3DNFFT, NonCartesianFFT\n",
    "from mri.operators.fourier.utils import estimate_density_compensation\n",
    "from mri.reconstructors import SingleChannelReconstructor\n",
    "from mri.reconstructors.utils.extract_sensitivity_maps import get_Smaps\n",
    "\n",
    "import h5py\n",
    "import matplotlib.pyplot as plt\n",
    "import numpy as np\n",
    "import numpy.fft as nf\n",
    "import os\n",
    "import os.path as op\n",
    "\n",
    "from skimage.morphology import convex_hull_image"
   ]
  },
  {
   "cell_type": "markdown",
   "metadata": {},
   "source": [
    "# Options"
   ]
  },
  {
   "cell_type": "code",
   "execution_count": null,
   "metadata": {},
   "outputs": [],
   "source": [
    "#\"200310_invivo_7T_SPA\" #\"200310_invivo_7T_SPI\"\n",
    "\n",
    "#\"200626_invivo_3T_CYL\" #\"200626_invivo_3T_SPH\" #\"200626_invivo_3T_F3D\"\n",
    "\n",
    "#\"200717_invivo_3T_SHS\" #\"200717_invivo_3T_DSS\"\n",
    "\n",
    "#\"201210_invivo_3T_S10\" #\"201210_invivo_3T_S20\" #\"201210_invivo_3T_F10\" #\"201210_invivo_3T_F20\"\n",
    "\n",
    "#\"210723_invivo_3T_C15\" #\"210723_invivo_3T_C20\" #\"210723_invivo_3T_TW8\"\n",
    "\n",
    "#\"211020_invivo_3T_SPA\"\n",
    "\n",
    "content = {\n",
    "    # Folders\n",
    "    \"data_folder\": \"/volatile/daval/Data\",#\"/neurospin/optimed/GuillaumeDavalFrerot/Mondor\", #\n",
    "    \"output_folder\": \"../out\",\n",
    "    # Reconstruction setup\n",
    "    \"acquisition\": \"211020_invivo_3T_SPA\",\n",
    "    \"reconstructor\": \"single_channel\",\n",
    "    \"regularizer\": \"SparseThreshold\", # \"GroupLASSO\" # \"OWL\"\n",
    "    \"combination\": \"NOC\",\n",
    "    \"nb_channels\": 1,\n",
    "    \"nb_iterations\": 50,\n",
    "    # Correction setup\n",
    "    \"correction\": False,\n",
    "    # Extra args\n",
    "    \"comment\": \"\",\n",
    "}\n",
    "\n",
    "load_metadata(content)"
   ]
  },
  {
   "cell_type": "code",
   "execution_count": null,
   "metadata": {},
   "outputs": [],
   "source": [
    "nb_adc_samples = content[\"nb_adc_samples\"]\n",
    "OSF = content[\"oversampling_factor\"]\n",
    "resolution = content[\"resolution\"]\n",
    "N, _, Nz = content[\"matrix_size\"]\n",
    "shifts = content[\"shifts\"]\n",
    "Te = content[\"echo_time\"]\n",
    "\n",
    "ftype, ctype = np.float32, np.complex64\n",
    "nb_adc_samples = nb_adc_samples * OSF\n",
    "dwell_time = 10e-6 / OSF\n",
    "alpha = 1e-1\n",
    "beta = 0"
   ]
  },
  {
   "cell_type": "markdown",
   "metadata": {},
   "source": [
    "# Loading"
   ]
  },
  {
   "cell_type": "code",
   "execution_count": null,
   "metadata": {},
   "outputs": [],
   "source": [
    "# 201210\n",
    "if (content[\"acquisition\"][:6] == \"201210\"):\n",
    "    mag_foldername = \"/volatile/daval/Data/201210_invivo_3T/dcm/MagImages\"\n",
    "    pha_foldername = \"/volatile/daval/Data/201210_invivo_3T/dcm/PhaImages\"\n",
    "# 211020\n",
    "elif (content[\"acquisition\"][:6] == \"211020\"):\n",
    "    mag_foldername = \"/volatile/daval/Data/211020_invivo_3T/dcm/Cartesian_MAG\"\n",
    "    pha_foldername = \"/volatile/daval/Data/211020_invivo_3T/dcm/Cartesian_PHA\"\n",
    "\n",
    "magnitude = load_magnitude_from_dicom(mag_foldername)\n",
    "phase = load_phase_from_dicom(pha_foldername)\n",
    "volume = magnitude * np.exp(1j * phase)"
   ]
  },
  {
   "cell_type": "code",
   "execution_count": null,
   "metadata": {},
   "outputs": [],
   "source": [
    "for i in range(0, Nz, 10):\n",
    "    fig = plt.figure(figsize=(10, 10), dpi=200)\n",
    "    (ax1, ax2) = fig.subplots(1, 2, sharex=True, sharey=True, gridspec_kw={'hspace': 0, 'wspace': 0})\n",
    "    ax1.imshow(np.abs(volume[...,i]), cmap=\"gray\")\n",
    "    ax2.imshow(np.angle(volume[...,i]), cmap=\"gray\")\n",
    "\n",
    "    ax1.axis(\"off\")\n",
    "    ax2.axis(\"off\")\n",
    "    plt.show()"
   ]
  },
  {
   "cell_type": "code",
   "execution_count": null,
   "metadata": {
    "scrolled": true
   },
   "outputs": [],
   "source": [
    "for i in range(0, N, 10):\n",
    "    fig = plt.figure(figsize=(10, 10), dpi=200)\n",
    "    (ax1, ax2) = fig.subplots(1, 2, sharex=True, sharey=True, gridspec_kw={'hspace': 0, 'wspace': 0})\n",
    "    ax1.imshow(np.abs(volume[...,i,:].T), cmap=\"gray\")\n",
    "    ax2.imshow(np.angle(volume[...,i,:].T), cmap=\"gray\")\n",
    "\n",
    "    ax1.axis(\"off\")\n",
    "    ax2.axis(\"off\")\n",
    "    plt.show()"
   ]
  },
  {
   "cell_type": "code",
   "execution_count": null,
   "metadata": {},
   "outputs": [],
   "source": [
    "for i in range(0, N, 10):\n",
    "    fig = plt.figure(figsize=(10, 10), dpi=200)\n",
    "    (ax1, ax2) = fig.subplots(1, 2, sharex=True, sharey=True, gridspec_kw={'hspace': 0, 'wspace': 0})\n",
    "    ax1.imshow(np.abs(volume[i,:,:].T), cmap=\"gray\")\n",
    "    ax2.imshow(np.angle(volume[i,:,:].T), cmap=\"gray\")\n",
    "\n",
    "    ax1.axis(\"off\")\n",
    "    ax2.axis(\"off\")\n",
    "    plt.show()"
   ]
  },
  {
   "cell_type": "markdown",
   "metadata": {},
   "source": [
    "# Projection"
   ]
  },
  {
   "cell_type": "code",
   "execution_count": null,
   "metadata": {},
   "outputs": [],
   "source": [
    "# Cylindrical Stack-of-SPARKLING\n",
    "#filename = \"/volatile/daval/Data/200626_invivo_3T/traj/01_dim2_SOSnoVDS_N384x384x208_FOV0.23x0.23x0.1248_Nc64_Ns2049.0_cutoff12_decay2.bin\"\n",
    "\n",
    "# Spherical Stack-of-SPARKLING\n",
    "#filename = \"/volatile/daval/Data/200626_invivo_3T/traj/02_dim3_sphereSOS_N384x384x208_FOV0.23x0.23x0.1248_Nc40_Ns2049.0_cutoff12_decay2.bin\"\n",
    "\n",
    "# Full3D SPARKLING\n",
    "#filename = op.join(content[\"data_folder\"], content[\"acquisition\"][:-4], \"traj\", content[\"trajectory\"])\n",
    "#filename = \"/volatile/daval/Data/mondor/traj/dim3_N384x384x208_FOV0.23x0.23x0.1248_Nc70_Ns2048_c15_d3_densNone_P0.75_OSF5_smax140e-3__D9M4Y2021T1044.bin\"\n",
    "#filename = \"/volatile/daval/Data/mondor/traj/dim3_N384x384x208_FOV0.23x0.23x0.1248_Nc70_Ns2048_c20_d2_densNone_P0.75_OSF5_smax140e-3__D9M4Y2021T1048.bin\"\n",
    "#filename = \"/volatile/daval/Data/mondor/traj/dim3_N384x384x208_FOV0.23x0.23x0.1248_Nc70_Ns2048_c15_d3_denslog_fourier.npy_P0.75_OSF5_smax140e-3__D9M4Y2021T1058.bin\"\n",
    "#filename = \"/volatile/daval/Data/mondor/traj/dim3_N384x384x208_FOV0.23x0.23x0.1248_Nc70_Ns2048_c15_d3_P0.75_OSF_S140e-3__D9M4Y2021T1044.bin\"\n",
    "\n",
    " # SNOREKLING\n",
    "#basename = \"/neurospin/optimed/Chaithya/Trajectories/SPARKLING/Full3D/TemporalWeights/N384x384x208_Nc70_TemporalWeights\"\n",
    "#filename = op.join(basename, \"dim3_i_RadialIO_P0.75_TW-1_N384x384x208_FOV0.23x0.23x0.1248_Nc70_Ns2048_c15_d3__D17M6Y2021T1452.bin\")\n",
    "#filename = op.join(basename, \"dim3_i_RadialIO_P0.75_TW1_N384x384x208_FOV0.23x0.23x0.1248_Nc70_Ns2048_c15_d3__D17M6Y2021T1455.bin\")\n",
    "#filename = op.join(basename, \"dim3_i_RadialIO_P0.75_TW2_N384x384x208_FOV0.23x0.23x0.1248_Nc70_Ns2048_c15_d3__D17M6Y2021T150.bin\")\n",
    "#filename = op.join(basename, \"dim3_i_RadialIO_P0.75_TW4_N384x384x208_FOV0.23x0.23x0.1248_Nc70_Ns2048_c15_d3__D17M6Y2021T155.bin\")\n",
    "\n",
    "# SNOREKLING REPROJECT\n",
    "#filename = \"/volatile/daval/Data/210917_phantom_3T/traj/01_dim3_i_RadialIO_P0.75_TW-1_N384x384x208_FOV0.23x0.23x0.1248_Nc70_Ns2048_c15_d3__D17M6Y2021T1452_reproject.bin\"\n",
    "#filename = \"/volatile/daval/Data/210917_phantom_3T/traj/02_dim3_i_RadialIO_P0.75_TW1_N384x384x208_FOV0.23x0.23x0.1248_Nc70_Ns2048_c15_d3__D17M6Y2021T1455_reproject.bin\"\n",
    "#filename = \"/volatile/daval/Data/210917_phantom_3T/traj/03_dim3_i_RadialIO_P0.75_TW2_N384x384x208_FOV0.23x0.23x0.1248_Nc70_Ns2048_c15_d3__D17M6Y2021T150_reproject.bin\"\n",
    "#filename = \"/volatile/daval/Data/210917_phantom_3T/traj/04_dim3_i_RadialIO_P0.75_TW4_N384x384x208_FOV0.23x0.23x0.1248_Nc70_Ns2048_c15_d3__D17M6Y2021T155_reproject.bin\"\n",
    "\n",
    "# SNOREKLING RECENT\n",
    "#filename = \"/neurospin/optimed/Chaithya/Trajectories/SPARKLING/Full3D/TemporalWeights/C25D2AF15/dim3_i_RadialIO_P0.75_TW-1_N384x384x208_FOV0.23x0.23x0.1248_Nc73_Ns2048_c25_d2__D6M10Y2021T225_reproject.bin\"\n",
    "#filename = \"/neurospin/optimed/Chaithya/Trajectories/SPARKLING/Full3D/TemporalWeights/C25D2AF15/dim3_i_RadialIO_P0.75_TW1_N384x384x208_FOV0.23x0.23x0.1248_Nc73_Ns2048_c25_d2__D6M10Y2021T225_reproject.bin\"\n",
    "#filename = \"/neurospin/optimed/Chaithya/Trajectories/SPARKLING/Full3D/TemporalWeights/C25D2AF15/dim3_i_RadialIO_P0.75_TW2_N384x384x208_FOV0.23x0.23x0.1248_Nc73_Ns2048_c25_d2__D6M10Y2021T730_reproject.bin\"\n",
    "#filename = \"/neurospin/optimed/Chaithya/Trajectories/SPARKLING/Full3D/TemporalWeights/C25D2AF15/dim3_i_RadialIO_P0.75_TW4_N384x384x208_FOV0.23x0.23x0.1248_Nc73_Ns2048_c25_d2__D6M10Y2021T225_reproject.bin\"\n",
    "\n",
    "# MUCH MORE SPARKLING\n",
    "basename = \"/neurospin/optimed/Chaithya/Trajectories/SPARKLING/Full3D/MUCH\"\n",
    "filename = op.join(basename, \"MUCH/dim3_i_CartesianLow_P0.75_N384x384x208_FOV0.23x0.23x0.1248_Nc72_Ns1005_c18.75_d1__D7M2Y2022T1237.bin\")\n",
    "#filename = op.join(basename, \"MORE/dim3_i_RadialIO_P0.75_TW1_N384x384x208_FOV0.23x0.23x0.1248_Nc72_Ns2048_c18.75_d1__D7M2Y2022T932.bin\")\n",
    "#filename = op.join(basename, \"MORE/dim3_i_RadialIO_P0.75_TW-1_N384x384x208_FOV0.23x0.23x0.1248_Nc72_Ns2048_c18.75_d1__D7M2Y2022T932.bin\")\n",
    "\n",
    "nb_adc_samples = 5 * 2046 # FIXME\n",
    "kspace_locations = load_kspace_locations(filename, dwell_time * 1e3, nb_adc_samples, kmax=1/(2*6e-4))\n",
    "kspace_locations = kspace_locations.astype(ftype)"
   ]
  },
  {
   "cell_type": "code",
   "execution_count": null,
   "metadata": {},
   "outputs": [],
   "source": [
    "print(\"K-space locations shape: {}\".format(kspace_locations.shape))\n",
    "\n",
    "nb_shots = int(kspace_locations.shape[0] / nb_adc_samples)\n",
    "for i in range(0, nb_shots, nb_shots // 50):\n",
    "    plt.plot(kspace_locations[i * nb_adc_samples:(i+1) * nb_adc_samples, 0],\n",
    "             kspace_locations[i * nb_adc_samples:(i+1) * nb_adc_samples, 1])\n",
    "plt.show()"
   ]
  },
  {
   "cell_type": "code",
   "execution_count": null,
   "metadata": {},
   "outputs": [],
   "source": [
    "density_weights = estimate_density_compensation(kspace_locations, volume.shape, num_iterations=10)"
   ]
  },
  {
   "cell_type": "code",
   "execution_count": null,
   "metadata": {},
   "outputs": [],
   "source": [
    "fourier_op = NonCartesianFFT(samples=kspace_locations, shape=(N, N, Nz), n_coils=1,\n",
    "                             implementation=\"gpuNUFFT\", density_comp=density_weights)"
   ]
  },
  {
   "cell_type": "code",
   "execution_count": null,
   "metadata": {},
   "outputs": [],
   "source": [
    "new_kspace = np.ascontiguousarray(fourier_op.op(np.ascontiguousarray(volume)))\n",
    "print(new_kspace.shape)"
   ]
  },
  {
   "cell_type": "code",
   "execution_count": null,
   "metadata": {},
   "outputs": [],
   "source": [
    "print(np.mean(volume))\n",
    "print(np.mean(new_kspace))\n",
    "print(new_kspace.shape)"
   ]
  },
  {
   "cell_type": "markdown",
   "metadata": {},
   "source": [
    "# Reconstruction"
   ]
  },
  {
   "cell_type": "code",
   "execution_count": null,
   "metadata": {},
   "outputs": [],
   "source": [
    "if (alpha == 0):\n",
    "    linear_op = Identity()\n",
    "    linear_op.n_coils = 1\n",
    "else:\n",
    "    linear_op = WaveletN(\n",
    "        wavelet_name='sym8',\n",
    "        nb_scale=3,\n",
    "        n_coils=kspace_data.shape[0] if (content[\"reconstructor\"] == \"calibrationless\") else 1,\n",
    "        padding_mode='periodization',\n",
    "        dim=3,\n",
    "        n_jobs=-1,\n",
    "    )"
   ]
  },
  {
   "cell_type": "code",
   "execution_count": null,
   "metadata": {},
   "outputs": [],
   "source": [
    "if (alpha == 0):\n",
    "    regularizer_op = Identity()\n",
    "    regularizer_op.cost = lambda x: 0\n",
    "    regularizer_op.weights = 0\n",
    "else:\n",
    "    if (content[\"regularizer\"] == \"OWL\"):\n",
    "        linear_op.op(np.zeros((kspace_data.shape[0], N, N, Nz))) # force to setup coeffs_shape in linear_op\n",
    "        regularizer_op = OWL(alpha=alpha, beta=beta, bands_shape=linear_op.coeffs_shape, n_coils=kspace_data.shape[0], mode=\"band_based\", n_jobs=-1)\n",
    "    elif (content[\"regularizer\"] == \"GroupLASSO\"):\n",
    "        regularizer_op = GroupLASSO(alpha)\n",
    "    else:\n",
    "        regularizer_op = SparseThreshold(Identity(), alpha, thresh_type=\"soft\")"
   ]
  },
  {
   "cell_type": "code",
   "execution_count": null,
   "metadata": {},
   "outputs": [],
   "source": [
    "reconstructor_args = {\n",
    "    \"fourier_op\": fourier_op,\n",
    "    \"linear_op\": linear_op,\n",
    "    \"regularizer_op\": regularizer_op,\n",
    "    \"gradient_formulation\": 'synthesis',\n",
    "    \"verbose\": 100,\n",
    "    \"lipschitz_cst\": None,\n",
    "    \"num_check_lips\": 0,\n",
    "    \"lips_calc_max_iter\": 15,\n",
    "}\n",
    "\n",
    "reconstructor = SingleChannelReconstructor(**reconstructor_args)"
   ]
  },
  {
   "cell_type": "code",
   "execution_count": null,
   "metadata": {},
   "outputs": [],
   "source": [
    "print(np.mean(volume))\n",
    "print(np.mean(new_kspace))\n",
    "print(new_kspace.shape)"
   ]
  },
  {
   "cell_type": "code",
   "execution_count": null,
   "metadata": {},
   "outputs": [],
   "source": [
    "reconstruct_args = {\n",
    "    \"kspace_data\": new_kspace[None, ...],\n",
    "    \"optimization_alg\": 'fista',\n",
    "    \"num_iterations\": content[\"nb_iterations\"],\n",
    "}\n",
    "\n",
    "new_volume, _, _ = reconstructor.reconstruct(**reconstruct_args)"
   ]
  },
  {
   "cell_type": "code",
   "execution_count": null,
   "metadata": {},
   "outputs": [],
   "source": [
    "print(np.mean(volume))\n",
    "print(np.mean(new_kspace))\n",
    "print(new_kspace.shape)"
   ]
  },
  {
   "cell_type": "code",
   "execution_count": null,
   "metadata": {},
   "outputs": [],
   "source": [
    "for i in range(0, Nz, 10):\n",
    "    fig = plt.figure(figsize=(10, 10), dpi=200)\n",
    "    (ax1, ax2) = fig.subplots(1, 2, sharex=True, sharey=True, gridspec_kw={'hspace': 0, 'wspace': 0})\n",
    "    ax1.imshow(np.abs(new_volume[...,i]), cmap=\"gray\")\n",
    "    ax2.imshow(np.angle(new_volume[...,i]), cmap=\"gray\")\n",
    "\n",
    "    ax1.axis(\"off\")\n",
    "    ax2.axis(\"off\")\n",
    "    plt.show()"
   ]
  },
  {
   "cell_type": "code",
   "execution_count": null,
   "metadata": {},
   "outputs": [],
   "source": [
    "for i in range(0, N, 10):\n",
    "    fig = plt.figure(figsize=(10, 10), dpi=200)\n",
    "    (ax1, ax2) = fig.subplots(1, 2, sharex=True, sharey=True, gridspec_kw={'hspace': 0, 'wspace': 0})\n",
    "    ax1.imshow(np.abs(new_volume[...,i,:].T), cmap=\"gray\")\n",
    "    ax2.imshow(np.angle(new_volume[...,i,:].T), cmap=\"gray\")\n",
    "\n",
    "    ax1.axis(\"off\")\n",
    "    ax2.axis(\"off\")\n",
    "    plt.show()"
   ]
  },
  {
   "cell_type": "code",
   "execution_count": null,
   "metadata": {},
   "outputs": [],
   "source": [
    "for i in range(0, N, 10):\n",
    "    fig = plt.figure(figsize=(10, 10), dpi=200)\n",
    "    (ax1, ax2) = fig.subplots(1, 2, sharex=True, sharey=True, gridspec_kw={'hspace': 0, 'wspace': 0})\n",
    "    ax1.imshow(np.abs(new_volume[i,:,:].T), cmap=\"gray\")\n",
    "    ax2.imshow(np.angle(new_volume[i,:,:].T), cmap=\"gray\")\n",
    "\n",
    "    ax1.axis(\"off\")\n",
    "    ax2.axis(\"off\")\n",
    "    plt.show()"
   ]
  },
  {
   "cell_type": "markdown",
   "metadata": {},
   "source": [
    "# Reconstruction with 0th order T2* compensation"
   ]
  },
  {
   "cell_type": "code",
   "execution_count": null,
   "metadata": {},
   "outputs": [],
   "source": [
    "time_vec = dwell_time * np.arange(nb_adc_samples)\n",
    "echo_time = Te - dwell_time * nb_adc_samples / 2\n",
    "time_vec = (time_vec + echo_time).astype(ftype)\n",
    "time_vec = np.tile(time_vec, new_kspace.shape[0] // time_vec.shape[0])\n",
    "\n",
    "T2s = 30e-3"
   ]
  },
  {
   "cell_type": "code",
   "execution_count": null,
   "metadata": {},
   "outputs": [],
   "source": [
    "%%script false --no-raise-error\n",
    "reconstruct_args = {\n",
    "    \"kspace_data\": new_kspace * np.exp(-time_vec / T2s),\n",
    "    \"optimization_alg\": 'fista',\n",
    "    \"num_iterations\": content[\"nb_iterations\"],\n",
    "}\n",
    "\n",
    "t2_volume, _, _ = reconstructor.reconstruct(**reconstruct_args)"
   ]
  },
  {
   "cell_type": "code",
   "execution_count": null,
   "metadata": {},
   "outputs": [],
   "source": [
    "%%script false --no-raise-error\n",
    "for i in range(0, Nz, 10):\n",
    "    fig = plt.figure(figsize=(10, 10), dpi=200)\n",
    "    (ax1, ax2) = fig.subplots(1, 2, sharex=True, sharey=True, gridspec_kw={'hspace': 0, 'wspace': 0})\n",
    "    ax1.imshow(np.abs(t2_volume[...,i]), cmap=\"gray\")\n",
    "    ax2.imshow(np.angle(t2_volume[...,i]), cmap=\"gray\")\n",
    "\n",
    "    ax1.axis(\"off\")\n",
    "    ax2.axis(\"off\")\n",
    "    plt.show()"
   ]
  },
  {
   "cell_type": "code",
   "execution_count": null,
   "metadata": {},
   "outputs": [],
   "source": [
    "%%script false --no-raise-error\n",
    "for i in range(0, N, 10):\n",
    "    fig = plt.figure(figsize=(10, 10), dpi=200)\n",
    "    (ax1, ax2) = fig.subplots(1, 2, sharex=True, sharey=True, gridspec_kw={'hspace': 0, 'wspace': 0})\n",
    "    ax1.imshow(np.abs(t2_volume[...,i,:].T), cmap=\"gray\")\n",
    "    ax2.imshow(np.angle(t2_volume[...,i,:].T), cmap=\"gray\")\n",
    "\n",
    "    ax1.axis(\"off\")\n",
    "    ax2.axis(\"off\")\n",
    "    plt.show()"
   ]
  },
  {
   "cell_type": "code",
   "execution_count": null,
   "metadata": {},
   "outputs": [],
   "source": [
    "%%script false --no-raise-error\n",
    "for i in range(0, N, 10):\n",
    "    fig = plt.figure(figsize=(10, 10), dpi=200)\n",
    "    (ax1, ax2) = fig.subplots(1, 2, sharex=True, sharey=True, gridspec_kw={'hspace': 0, 'wspace': 0})\n",
    "    ax1.imshow(np.abs(t2_volume[i,:,:].T), cmap=\"gray\")\n",
    "    ax2.imshow(np.angle(t2_volume[i,:,:].T), cmap=\"gray\")\n",
    "\n",
    "    ax1.axis(\"off\")\n",
    "    ax2.axis(\"off\")\n",
    "    plt.show()"
   ]
  },
  {
   "cell_type": "markdown",
   "metadata": {},
   "source": [
    "# B0 effects addition"
   ]
  },
  {
   "cell_type": "code",
   "execution_count": null,
   "metadata": {},
   "outputs": [],
   "source": [
    "mask = create_mask(volume)\n",
    "mask = np.stack(list(map(convex_hull_image, np.transpose(mask, [2, 0, 1]))), axis=-1)"
   ]
  },
  {
   "cell_type": "code",
   "execution_count": null,
   "metadata": {},
   "outputs": [],
   "source": [
    "content[\"path_to_field_map\"] = op.join(content[\"data_folder\"],\n",
    "                                           content[\"acquisition\"][:-4],\n",
    "                                           \"dcm\", content[\"b0map\"])\n",
    "\n",
    "field_map, range_w = load_field_map_from_dicom(content[\"path_to_field_map\"], N, N, Nz, unwrap=\"old\")\n",
    "\n",
    "for z in range(Nz):\n",
    "    field_map[...,z] = np.rot90(field_map[...,z])\n",
    "\n",
    "field_map = field_map * mask\n",
    "field_map = low_pass_filter(field_map).real.astype(ftype)"
   ]
  },
  {
   "cell_type": "code",
   "execution_count": null,
   "metadata": {},
   "outputs": [],
   "source": [
    "from skimage.restoration import unwrap_phase\n",
    "\n",
    "def update_field_map(volume, field_map=None):\n",
    "    if (field_map is None):\n",
    "        field_map = np.zeros(volume.shape).astype(ftype)\n",
    "    \n",
    "    low_freq_magn  = np.abs(volume)\n",
    "    low_freq_phase = np.angle(volume)\n",
    "\n",
    "    low_freq_mask = create_mask(low_freq_magn)\n",
    "    low_freq_mask = np.stack(list(map(convex_hull_image, np.transpose(low_freq_mask, [2, 0, 1]))), axis=-1)\n",
    "    \n",
    "    #poisson_field_map = poisson_unwrap_gpu(low_freq_phase * low_freq_mask, low_freq_magn * low_freq_mask, kmax=50)\n",
    "    poisson_field_map = unwrap_phase(low_freq_phase * low_freq_mask)\n",
    "    poisson_field_map = poisson_field_map - (np.mean(np.angle(np.exp(1j * low_freq_phase)\n",
    "                                                            / np.exp(1j * poisson_field_map))[np.where(low_freq_mask)]))\n",
    "    \n",
    "    mask = np.where(low_freq_mask)\n",
    "    shift = int(np.around(1 / Te))\n",
    "    #poisson_field_map = poisson_field_map - (2 * np.pi) * np.around(np.mean(poisson_field_map[mask]) / (2 * np.pi))\n",
    "    poisson_field_map -= np.median(poisson_field_map[mask])\n",
    "\n",
    "    field_map = field_map + (poisson_field_map * low_freq_mask / (2 * np.pi * Te))\n",
    "    field_map -= np.median(field_map[mask])\n",
    "    #field_map = field_map - shift * np.around(np.mean(field_map[mask]) / shift) # FIXME\n",
    "\n",
    "    field_map = low_pass_filter(field_map * low_freq_mask).real.astype(ftype)\n",
    "    return field_map, low_freq_mask"
   ]
  },
  {
   "cell_type": "code",
   "execution_count": null,
   "metadata": {},
   "outputs": [],
   "source": [
    "#field_map, mask = update_field_map(volume) # FIXME"
   ]
  },
  {
   "cell_type": "code",
   "execution_count": null,
   "metadata": {},
   "outputs": [],
   "source": [
    "for i in range(0, Nz, 10):\n",
    "    fig = plt.figure(figsize=(10, 10), dpi=200)\n",
    "    (ax1, ax2, ax3) = fig.subplots(1, 3, sharex=True, sharey=True, gridspec_kw={'hspace': 0, 'wspace': 0})\n",
    "    ax1.imshow(np.abs(volume[...,i]), cmap=\"gray\")\n",
    "    ax2.imshow(np.angle(volume[...,i]), cmap=\"gray\")\n",
    "    ax3.imshow(field_map[...,i], cmap=\"jet\", vmin=-250, vmax=250)\n",
    "\n",
    "    ax1.axis(\"off\")\n",
    "    ax2.axis(\"off\")\n",
    "    ax3.axis(\"off\")\n",
    "    plt.show()"
   ]
  },
  {
   "cell_type": "code",
   "execution_count": null,
   "metadata": {},
   "outputs": [],
   "source": [
    "time_vec = dwell_time * np.arange(nb_adc_samples)\n",
    "echo_time = Te - dwell_time * nb_adc_samples / 2\n",
    "time_vec = (time_vec + echo_time).astype(ftype)"
   ]
  },
  {
   "cell_type": "code",
   "execution_count": null,
   "metadata": {},
   "outputs": [],
   "source": [
    "ifourier_op = FourierWrapper(fourier_op, field_map, time_vec, mask, n_bins=1000, # FIXME +-\n",
    "                             L=int(3 + (np.max(field_map) - np.min(field_map)) // 25),\n",
    "                             coefficients=\"svd\", weights=\"full\")\n",
    "ifourier_op.display_infos()"
   ]
  },
  {
   "cell_type": "code",
   "execution_count": null,
   "metadata": {},
   "outputs": [],
   "source": [
    "b0_kspace = ifourier_op.op(np.abs(volume))\n",
    "time_vec = np.tile(time_vec, new_kspace.shape[0] // time_vec.shape[0])\n",
    "print(b0_kspace.shape)"
   ]
  },
  {
   "cell_type": "markdown",
   "metadata": {},
   "source": [
    "# Reconstruction with B0"
   ]
  },
  {
   "cell_type": "code",
   "execution_count": null,
   "metadata": {},
   "outputs": [],
   "source": [
    "reconstruct_args = {\n",
    "    \"kspace_data\": b0_kspace * np.exp(time_vec),\n",
    "    \"optimization_alg\": 'fista',\n",
    "    \"num_iterations\": content[\"nb_iterations\"],\n",
    "}\n",
    "\n",
    "b0_volume, _, _ = reconstructor.reconstruct(**reconstruct_args)"
   ]
  },
  {
   "cell_type": "code",
   "execution_count": null,
   "metadata": {},
   "outputs": [],
   "source": [
    "print(\"Norm:\\t{}\".format(np.linalg.norm(b0_volume * mask)))\n",
    "print(\"MSE:\\t{}\".format(mse(b0_volume, volume, mask)))\n",
    "print(\"PSNR:\\t{}\".format(psnr(b0_volume, volume, mask)))\n",
    "print(\"SSIM:\\t{}\".format(ssim(b0_volume, volume, mask)))"
   ]
  },
  {
   "cell_type": "code",
   "execution_count": null,
   "metadata": {},
   "outputs": [],
   "source": [
    "for i in range(0, Nz, 10):\n",
    "    fig = plt.figure(figsize=(10, 10), dpi=200)\n",
    "    (ax1, ax2) = fig.subplots(1, 2, sharex=True, sharey=True, gridspec_kw={'hspace': 0, 'wspace': 0})\n",
    "    ax1.imshow(np.abs(b0_volume[...,i]), cmap=\"gray\")\n",
    "    ax2.imshow(np.angle(b0_volume[...,i]), cmap=\"gray\")\n",
    "\n",
    "    ax1.axis(\"off\")\n",
    "    ax2.axis(\"off\")\n",
    "    plt.show()"
   ]
  },
  {
   "cell_type": "code",
   "execution_count": null,
   "metadata": {},
   "outputs": [],
   "source": [
    "for i in range(0, N, 10):\n",
    "    fig = plt.figure(figsize=(10, 10), dpi=200)\n",
    "    (ax1, ax2) = fig.subplots(1, 2, sharex=True, sharey=True, gridspec_kw={'hspace': 0, 'wspace': 0})\n",
    "    ax1.imshow(np.abs(b0_volume[...,i,:].T), cmap=\"gray\")\n",
    "    ax2.imshow(np.angle(b0_volume[...,i,:].T), cmap=\"gray\")\n",
    "\n",
    "    ax1.axis(\"off\")\n",
    "    ax2.axis(\"off\")\n",
    "    plt.show()"
   ]
  },
  {
   "cell_type": "code",
   "execution_count": null,
   "metadata": {},
   "outputs": [],
   "source": [
    "for i in range(0, N, 10):\n",
    "    fig = plt.figure(figsize=(10, 10), dpi=200)\n",
    "    (ax1, ax2) = fig.subplots(1, 2, sharex=True, sharey=True, gridspec_kw={'hspace': 0, 'wspace': 0})\n",
    "    ax1.imshow(np.abs(b0_volume[i,:,:].T), cmap=\"gray\")\n",
    "    ax2.imshow(np.angle(b0_volume[i,:,:].T), cmap=\"gray\")\n",
    "\n",
    "    ax1.axis(\"off\")\n",
    "    ax2.axis(\"off\")\n",
    "    plt.show()"
   ]
  },
  {
   "cell_type": "code",
   "execution_count": null,
   "metadata": {},
   "outputs": [],
   "source": [
    "slia = 160\n",
    "slic = 384 - 165 # FIXME\n",
    "slis = 205 # FIXME\n",
    "vmin = 0\n",
    "vmax = np.max(np.abs(new_volume)) / 2\n",
    "\n",
    "name = \"MUCH_BETTER\"\n",
    "basename = \"../MMS\"\n",
    "vol = b0_volume\n",
    "\n",
    "plt.figure(figsize=(10,10))\n",
    "plt.imshow(np.abs(vol[:,:,slia]).T, vmin=vmin, vmax=vmax, cmap=\"gray\")\n",
    "plt.show()\n",
    "\n",
    "plt.figure(figsize=(10,10))\n",
    "plt.imshow(np.abs(vol[:,slis,:]).T, vmin=vmin, vmax=vmax, cmap=\"gray\")\n",
    "plt.show()\n",
    "\n",
    "plt.figure(figsize=(10,10))\n",
    "plt.imshow(np.abs(vol[slic,:,:]).T, vmin=vmin, vmax=vmax, cmap=\"gray\")\n",
    "plt.show()\n",
    "\n",
    "plt.imsave(op.join(basename, \"retrospective_invivo_axial_{}.png\".format(name)), np.abs(vol[:,:,slia]), cmap=\"gray\", vmin=vmin, vmax=vmax)\n",
    "plt.imsave(op.join(basename, \"retrospective_invivo_sagital_{}.png\".format(name)), np.abs(vol[:,slis,:]), cmap=\"gray\", vmin=vmin, vmax=vmax)\n",
    "plt.imsave(op.join(basename, \"retrospective_invivo_coronal_{}.png\".format(name)), np.abs(vol[slic,:,:]), cmap=\"gray\", vmin=vmin, vmax=vmax)"
   ]
  },
  {
   "cell_type": "code",
   "execution_count": null,
   "metadata": {},
   "outputs": [],
   "source": [
    "stop"
   ]
  },
  {
   "cell_type": "markdown",
   "metadata": {},
   "source": [
    "# Correction with B0"
   ]
  },
  {
   "cell_type": "code",
   "execution_count": null,
   "metadata": {},
   "outputs": [],
   "source": [
    "ifourier_op = FourierWrapper(fourier_op, -field_map, time_vec, mask, n_bins=1000,\n",
    "                             L=int(3 + (np.max(field_map) - np.min(field_map)) // 25),\n",
    "                             coefficients=\"svd\", weights=\"full\")\n",
    "ifourier_op.display_infos()"
   ]
  },
  {
   "cell_type": "code",
   "execution_count": null,
   "metadata": {},
   "outputs": [],
   "source": [
    "reconstructor_args = {\n",
    "    \"fourier_op\": ifourier_op,\n",
    "    \"linear_op\": linear_op,\n",
    "    \"regularizer_op\": regularizer_op,\n",
    "    \"gradient_formulation\": 'synthesis',\n",
    "    \"verbose\": 1,\n",
    "    \"lipschitz_cst\": None,\n",
    "    \"num_check_lips\": 0,\n",
    "    \"lips_calc_max_iter\": 5,\n",
    "}\n",
    "\n",
    "reconstructor = SingleChannelReconstructor(**reconstructor_args)"
   ]
  },
  {
   "cell_type": "code",
   "execution_count": null,
   "metadata": {},
   "outputs": [],
   "source": [
    "reconstruct_args = {\n",
    "    \"kspace_data\": b0_kspace,\n",
    "    \"optimization_alg\": 'fista',\n",
    "    \"num_iterations\": 10,\n",
    "}\n",
    "\n",
    "b0_volume, _, _ = reconstructor.reconstruct(**reconstruct_args)"
   ]
  },
  {
   "cell_type": "code",
   "execution_count": null,
   "metadata": {},
   "outputs": [],
   "source": [
    "for i in range(0, Nz, 10):\n",
    "    fig = plt.figure(figsize=(10, 10), dpi=200)\n",
    "    (ax1, ax2) = fig.subplots(1, 2, sharex=True, sharey=True, gridspec_kw={'hspace': 0, 'wspace': 0})\n",
    "    ax1.imshow(np.abs(b0_volume[...,i]), cmap=\"gray\")\n",
    "    ax2.imshow(np.angle(b0_volume[...,i]), cmap=\"gray\")\n",
    "\n",
    "    ax1.axis(\"off\")\n",
    "    ax2.axis(\"off\")\n",
    "    plt.show()"
   ]
  },
  {
   "cell_type": "code",
   "execution_count": null,
   "metadata": {},
   "outputs": [],
   "source": [
    "for i in range(0, N, 10):\n",
    "    fig = plt.figure(figsize=(10, 10), dpi=200)\n",
    "    (ax1, ax2) = fig.subplots(1, 2, sharex=True, sharey=True, gridspec_kw={'hspace': 0, 'wspace': 0})\n",
    "    ax1.imshow(np.abs(b0_volume[...,i,:].T), cmap=\"gray\")\n",
    "    ax2.imshow(np.angle(b0_volume[...,i,:].T), cmap=\"gray\")\n",
    "\n",
    "    ax1.axis(\"off\")\n",
    "    ax2.axis(\"off\")\n",
    "    plt.show()"
   ]
  },
  {
   "cell_type": "code",
   "execution_count": null,
   "metadata": {},
   "outputs": [],
   "source": [
    "for i in range(0, N, 10):\n",
    "    fig = plt.figure(figsize=(10, 10), dpi=200)\n",
    "    (ax1, ax2) = fig.subplots(1, 2, sharex=True, sharey=True, gridspec_kw={'hspace': 0, 'wspace': 0})\n",
    "    ax1.imshow(np.abs(b0_volume[i,:,:].T), cmap=\"gray\")\n",
    "    ax2.imshow(np.angle(b0_volume[i,:,:].T), cmap=\"gray\")\n",
    "\n",
    "    ax1.axis(\"off\")\n",
    "    ax2.axis(\"off\")\n",
    "    plt.show()"
   ]
  }
 ],
 "metadata": {
  "kernelspec": {
   "display_name": "Python 3 (ipykernel)",
   "language": "python",
   "name": "python3"
  },
  "language_info": {
   "codemirror_mode": {
    "name": "ipython",
    "version": 3
   },
   "file_extension": ".py",
   "mimetype": "text/x-python",
   "name": "python",
   "nbconvert_exporter": "python",
   "pygments_lexer": "ipython3",
   "version": "3.10.4"
  }
 },
 "nbformat": 4,
 "nbformat_minor": 4
}
