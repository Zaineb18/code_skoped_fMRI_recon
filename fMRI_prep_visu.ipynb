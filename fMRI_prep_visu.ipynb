{
 "cells": [
  {
   "cell_type": "markdown",
   "id": "71055eae-506b-431b-b531-1779ffec0c12",
   "metadata": {},
   "source": [
    "**Generate 4D numpy and nifti files** "
   ]
  },
  {
   "cell_type": "code",
   "execution_count": null,
   "id": "b248f0c1-f8dd-4dc2-8d5b-139364ee38b7",
   "metadata": {
    "tags": []
   },
   "outputs": [],
   "source": [
    "from prep_recons_utils import *    "
   ]
  },
  {
   "cell_type": "code",
   "execution_count": null,
   "id": "0bc3426c-2767-49bd-a947-c1b1ba3c2a50",
   "metadata": {
    "scrolled": true,
    "tags": []
   },
   "outputs": [],
   "source": [
    "folder = \"/volatile/Zaineb/OutputJeanZay/Data_Zaineb/cr170417_13022024_LewisLikeParadigm/Output/R2_2400ms/\"\n",
    "volumes, size = get_4D_fMRI_data(folder)\n",
    "np.save(\"/neurospin/optimed/ZainebAmor/OutputLewisLike/R2_2400ms\", volumes)\n",
    "volumes.shape, size"
   ]
  },
  {
   "cell_type": "code",
   "execution_count": null,
   "id": "6c4a95e9-8179-4f4c-a04c-24cbe657f7f8",
   "metadata": {
    "tags": []
   },
   "outputs": [],
   "source": [
    "npy_file = \"/neurospin/optimed/ZainebAmor/OutputLewisLike/R2_2400ms.npy\"\n",
    "ref_nifti = \"/neurospin/metric/ZainebAmor/February2024/cr170417_13022024/000023_t1-mp2rage-1.0iso-tra-UNI-DEN_t1_mp2rage_1.0iso_tra_20240213100700_23.nii\"\n",
    "scale=1000000\n",
    "nifti_volumes  = from_npy_to_nifti(npy_file, ref_nifti, scale)\n",
    "nifti_volumes.to_filename(\"/neurospin/optimed/ZainebAmor/OutputLewisLike/R2_2400ms.nii\")"
   ]
  },
  {
   "cell_type": "code",
   "execution_count": null,
   "id": "f9745132-ad64-4fea-98ef-d07b689b501d",
   "metadata": {
    "tags": []
   },
   "outputs": [],
   "source": [
    "nifti_volumes.shape"
   ]
  },
  {
   "cell_type": "markdown",
   "id": "cae1c65d-7bbd-4a58-8892-0f63ecd21829",
   "metadata": {
    "tags": []
   },
   "source": [
    "**Sanity checks**"
   ]
  },
  {
   "cell_type": "code",
   "execution_count": null,
   "id": "7850a422-91f4-4efb-b864-6998f1accf4a",
   "metadata": {
    "tags": []
   },
   "outputs": [],
   "source": [
    "volumes = np.mean(volumes, axis=-1)"
   ]
  },
  {
   "cell_type": "code",
   "execution_count": null,
   "id": "259c6e2e-2593-4543-834f-ee4654fbc086",
   "metadata": {
    "tags": []
   },
   "outputs": [],
   "source": [
    "import matplotlib.pyplot as plt\n",
    "plt.figure(figsize=(20,12))\n",
    "plt.subplot(2,3,1)\n",
    "i=-5\n",
    "plt.imshow(volumes[:,:,25+i], cmap='gray')\n",
    "plt.subplot(2,3,2)\n",
    "plt.imshow(volumes[:,:,35+i], cmap='gray')\n",
    "plt.subplot(2,3,3)\n",
    "plt.imshow(volumes[:,:,45+i], cmap='gray')\n",
    "plt.subplot(2,3,4)\n",
    "plt.imshow(volumes[:,:,55+i], cmap='gray')\n",
    "plt.subplot(2,3,5)\n",
    "plt.imshow(volumes[:,:,65+i], cmap='gray')\n",
    "plt.subplot(2,3,6)\n",
    "plt.imshow(volumes[:,:,75+i], cmap='gray')"
   ]
  },
  {
   "cell_type": "markdown",
   "id": "6a50083b-5f63-465f-8049-9b093bc4ae59",
   "metadata": {},
   "source": [
    "**Example of movie generation**"
   ]
  },
  {
   "cell_type": "code",
   "execution_count": null,
   "id": "d158d56f-af1b-4b40-a520-a552a8160b06",
   "metadata": {},
   "outputs": [],
   "source": [
    "npy_file1 = np.load(\"/volatile/Zaineb/DataJeanZay/cr170417_06072022/RS_HB/no_Corr.npy\")  \n",
    "npy_file1 = npy_file1[:,:,60,:]\n",
    "npy_file1 = np.rollaxis(npy_file1, axis=2, start=0)\n",
    "\n",
    "npy_file2 = np.load(\"/volatile/Zaineb/DataJeanZay/cr170417_06072022/RS_HB/withB0k0kxyz.npy\")  \n",
    "npy_file2 = npy_file2[:,:,60,:]\n",
    "npy_file2 = np.rollaxis(npy_file2, axis=2, start=0)\n",
    "\n",
    "npy_file3 = npy_file2-npy_file1\n",
    "npy_file = np.concatenate((npy_file2, npy_file1), axis=2)\n",
    "make_movie(\"/neurospin/lrmn/people/Zaineb_Amor/DataJuly2022/InVivo_cr170417_06072022/movies_HB/both.mp4\", npy_file, share_norm=True, fps=1,)    \n",
    "make_movie(\"/neurospin/lrmn/people/Zaineb_Amor/DataJuly2022/InVivo_cr170417_06072022/movies_HB/minus.mp4\", npy_file3, share_norm=True, fps=1,)   "
   ]
  }
 ],
 "metadata": {
  "kernelspec": {
   "display_name": "Python 3 (ipykernel)",
   "language": "python",
   "name": "python3"
  },
  "language_info": {
   "codemirror_mode": {
    "name": "ipython",
    "version": 3
   },
   "file_extension": ".py",
   "mimetype": "text/x-python",
   "name": "python",
   "nbconvert_exporter": "python",
   "pygments_lexer": "ipython3",
   "version": "3.10.4"
  }
 },
 "nbformat": 4,
 "nbformat_minor": 5
}
