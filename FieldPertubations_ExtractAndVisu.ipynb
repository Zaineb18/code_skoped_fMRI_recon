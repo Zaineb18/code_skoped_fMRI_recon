{
 "cells": [
  {
   "cell_type": "markdown",
   "id": "89a03a69-3f27-41bb-8ff4-895c90b4972b",
   "metadata": {},
   "source": [
    "**Read Precribed Trajectories**"
   ]
  },
  {
   "cell_type": "code",
   "execution_count": null,
   "id": "79a5588a-4413-4b61-b5e0-fc6603fb8049",
   "metadata": {
    "tags": []
   },
   "outputs": [],
   "source": [
    "from skope_extraction_utils import * "
   ]
  },
  {
   "cell_type": "code",
   "execution_count": null,
   "id": "4721bc23-0660-44fe-a8aa-d28b7470bc3b",
   "metadata": {
    "tags": []
   },
   "outputs": [],
   "source": [
    "traj_file = \"/neurospin/metric/ZainebAmor/February2024/dim3_i_RadialIO_P0.75_N192x192x128_FOV0.192x0.192x0.128_Nc8_Ns2688_c25_d2__D9M9Y2021T1017_reproject.bin\"\n",
    "FOV, M, Ns, OS, n_shots  = get_traj_params(traj_file)\n",
    "kspace_loc_norm = get_samples(traj_file, 0.01/OS, Ns*OS,kmax=(M[0]/(2*FOV[0]), M[1]/(2*FOV[1]), M[2]/(2*FOV[2])))\n",
    "kspace_loc_unorm = get_kspace_loc_from_gradfile(traj_file, 0.01/OS, Ns*OS)[0]"
   ]
  },
  {
   "cell_type": "code",
   "execution_count": null,
   "id": "179393b1-3700-4dc9-925d-1e6466931447",
   "metadata": {
    "tags": []
   },
   "outputs": [],
   "source": [
    "kspace_loc_unorm.shape, FOV, M, Ns, OS, n_shots"
   ]
  },
  {
   "cell_type": "markdown",
   "id": "d3fc9ad2-6a00-4b7a-bf9c-1d99fd5e741a",
   "metadata": {},
   "source": [
    "**Read Measured Data**"
   ]
  },
  {
   "cell_type": "code",
   "execution_count": null,
   "id": "e594ac62-a423-4af5-b6dd-0db780f298c4",
   "metadata": {
    "tags": []
   },
   "outputs": [],
   "source": [
    "import mat73\n",
    "import scipy.io\n",
    "meas_file = \"/neurospin/metric/ZainebAmor/February2024/cr170417_13022024/R5.mat\"\n",
    "ndummy=900\n",
    "meas_traj, meas_k0 = read_meas_matrix(meas_file, ndummy)\n",
    "meas_traj.shape"
   ]
  },
  {
   "cell_type": "markdown",
   "id": "3e2b1dae-97b6-4300-a8cc-24307a578429",
   "metadata": {},
   "source": [
    "**Synch**"
   ]
  },
  {
   "cell_type": "code",
   "execution_count": null,
   "id": "fd37e4da-d6bc-4c6d-93e5-3c56188447c2",
   "metadata": {
    "tags": []
   },
   "outputs": [],
   "source": [
    "s_range=1000\n",
    "e_range=3000\n",
    "nshots=n_shots\n",
    "corr, ind, delay, corr_ind, delay_ind = find_skope_delay(s_range,e_range, meas_traj, kspace_loc_unorm, Ns*OS, nshots)\n",
    "plt.plot(delay, corr)\n",
    "plt.xlabel('K-space point shift')\n",
    "plt.ylabel('Correlation between the measured \\n and prescribed k-space  positions')\n",
    "plt.title('Correlation between the measured and prescribed \\nk-space  positions according  to the shift')\n",
    "print(delay_ind, corr_ind)"
   ]
  },
  {
   "cell_type": "code",
   "execution_count": null,
   "id": "57d5c105-782e-4486-a0c9-f81359c55ad8",
   "metadata": {
    "tags": []
   },
   "outputs": [],
   "source": [
    "nsamp=Ns*OS\n",
    "dim=3\n",
    "Kmax= (M[0]/(2*FOV[0]), M[1]/(2*FOV[1]), M[2]/(2*FOV[2]))\n",
    "new_meas_traj, meas_k0 = extract_synch_trajs_and_k0(meas_traj, meas_k0,dim,nsamp, delay_ind, Kmax)"
   ]
  },
  {
   "cell_type": "code",
   "execution_count": null,
   "id": "0e571ffb-6519-4c61-baf5-078de7928b56",
   "metadata": {
    "tags": []
   },
   "outputs": [],
   "source": [
    "alpha = 23\n",
    "rot_matrix =  np.array([[np.cos(alpha*np.pi/180), 0, np.sin(alpha*np.pi/180)],[0, 1, 0],[-np.sin(alpha*np.pi/180), 0, np.cos(alpha*np.pi/180)]])\n",
    "new_meas_traj = np.dot(new_meas_traj, rot_matrix)"
   ]
  },
  {
   "cell_type": "code",
   "execution_count": null,
   "id": "57fa1468-c502-48b6-87b6-804a07e102cb",
   "metadata": {
    "tags": []
   },
   "outputs": [],
   "source": [
    "import matplotlib.pyplot as plt\n",
    "plt.figure(figsize=(15,5))\n",
    "plt.subplot(1,3,1)\n",
    "j=5\n",
    "plt.plot(kspace_loc_norm[nsamp*j:nsamp*(j+1),0], label='th')\n",
    "plt.plot(new_meas_traj[nsamp*j:nsamp*(j+1),0], label='meas')\n",
    "plt.subplot(1,3,2)\n",
    "plt.plot(kspace_loc_norm[nsamp*j:nsamp*(j+1),1], label='th')\n",
    "plt.plot(new_meas_traj[nsamp*j:nsamp*(j+1),1], label='meas')\n",
    "plt.subplot(1,3,3)\n",
    "plt.plot(kspace_loc_norm[nsamp*j:nsamp*(j+1),2], label='th')\n",
    "plt.plot(new_meas_traj[nsamp*j:nsamp*(j+1),2], label='meas')\n",
    "plt.legend()"
   ]
  },
  {
   "cell_type": "code",
   "execution_count": null,
   "id": "851318cb-9720-44f3-894d-658eaed7fa7f",
   "metadata": {
    "tags": []
   },
   "outputs": [],
   "source": [
    "path_traj = \"/neurospin/metric/ZainebAmor/February2024/cr170417_13022024/kmatrices/kxyz_R5\"\n",
    "path_k0=\"/neurospin/metric/ZainebAmor/February2024/cr170417_13022024/kmatrices/k0_R5\"\n",
    "save_trajs_and_k0(new_meas_traj, meas_k0, path_traj, path_k0)"
   ]
  },
  {
   "cell_type": "code",
   "execution_count": null,
   "id": "210bcd72-e1d4-4217-b38e-4def519c3637",
   "metadata": {},
   "outputs": [],
   "source": [
    "ecc_file = \"/neurospin/metric/ZainebAmor/February2024/cr170417_13022024/ecc_raw/ECCPhase.mat\""
   ]
  },
  {
   "cell_type": "code",
   "execution_count": null,
   "id": "a5451f28-1397-46db-8aac-51c5dcd17332",
   "metadata": {
    "tags": []
   },
   "outputs": [],
   "source": [
    "n_rep = 125\n",
    "ecc = ECCPhase_prep(ecc_file, nshots=n_shots*n_rep, nsamp=nsamp)\n",
    "print(ecc.shape, new_meas_traj.shape, meas_k0.shape)\n",
    "np.save(\"/neurospin/metric/ZainebAmor/February2024/cr170417_13022024/ecc_raw/ecc\", ecc)"
   ]
  }
 ],
 "metadata": {
  "kernelspec": {
   "display_name": "Python 3 (ipykernel)",
   "language": "python",
   "name": "python3"
  },
  "language_info": {
   "codemirror_mode": {
    "name": "ipython",
    "version": 3
   },
   "file_extension": ".py",
   "mimetype": "text/x-python",
   "name": "python",
   "nbconvert_exporter": "python",
   "pygments_lexer": "ipython3",
   "version": "3.10.4"
  }
 },
 "nbformat": 4,
 "nbformat_minor": 5
}
