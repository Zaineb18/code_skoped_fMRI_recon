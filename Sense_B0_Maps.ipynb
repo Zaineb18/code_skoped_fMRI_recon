{
 "cells": [
  {
   "cell_type": "code",
   "execution_count": null,
   "id": "09b5915c-ed3b-4c57-aee6-9aa8f4e9b127",
   "metadata": {
    "tags": []
   },
   "outputs": [],
   "source": [
    "from sense_b0_maps_utils import *"
   ]
  },
  {
   "cell_type": "markdown",
   "id": "1a973dc0-5d2d-4dd0-a1c9-469a36c3e0a4",
   "metadata": {},
   "source": [
    "**Sense Maps**"
   ]
  },
  {
   "cell_type": "code",
   "execution_count": null,
   "id": "9f127cf1-ee85-4722-9a88-b290870a4d26",
   "metadata": {
    "tags": []
   },
   "outputs": [],
   "source": [
    "obs_file = \"/neurospin/metric/ZainebAmor/February2024/cr170417_13022024/raw_data_scanner/meas_MID253_b0+Sensitivity_maps_iso3mm_tra_R6_FID12658.dat\"\n",
    "obs_data = read_sense_maps_kspace(obs_file)\n",
    "recons_per_channel = recon_uncombined_data(obs_data, target_res=(1.,1.,1.))\n",
    "sos, mask_li = get_sos_and_mask(recons_per_channel)\n",
    "smaps, masked_smaps = get_smaps_and_masked_smaps(recons_per_channel, sos, mask_li,target_res=(1.,1.,1.))\n",
    "path_smaps = \"/neurospin/metric/ZainebAmor/February2024/cr170417_13022024/smaps/R6_Smaps\"\n",
    "path_masked = \"/neurospin/metric/ZainebAmor/February2024/cr170417_13022024/smaps/R6_MaskedSmaps\"\n",
    "save_smaps(smaps, masked_smaps, path_smaps, path_masked)"
   ]
  },
  {
   "cell_type": "code",
   "execution_count": null,
   "id": "2154d50a-8bc2-45d4-a207-5a1ae6795b4f",
   "metadata": {
    "tags": []
   },
   "outputs": [],
   "source": [
    "import matplotlib.pyplot as plt\n",
    "import numpy as np\n",
    "fig, ax = plt.subplots()\n",
    "i=75\n",
    "sos1 = np.moveaxis(sos, (0,1,2,), (1,0,2))\n",
    "vol = np.load(\"/neurospin/metric/ZainebAmor/Explore+Pilote2/Deuxi_Essai_Trajs/test.npy\")\n",
    "\n",
    "ax.imshow(abs(vol[:,:,i]), cmap=\"gray\")\n",
    "ax.imshow(sos1[:,:,i],\n",
    "          alpha=0.3 * (sos1[:,:,i] > 0),\n",
    "          cmap=\"jet\", interpolation=\"none\")\n",
    "\n",
    "fig.show()\n",
    "    "
   ]
  },
  {
   "cell_type": "code",
   "execution_count": null,
   "id": "b0cfe14a-f53c-42fd-beab-7d3c5b8c0c71",
   "metadata": {
    "tags": []
   },
   "outputs": [],
   "source": [
    "def BO_map_and_Mask_gen(b0_file, mask_file, target_res):\n",
    "    dim_x = int(192/target_res[0])\n",
    "    dim_y = int(192/target_res[1])\n",
    "    dim_z = int(132/target_res[2])\n",
    "    print(dim_x, dim_y, dim_z)\n",
    "    print(dim_x/64,dim_y/64,dim_z/44)\n",
    "    mask = scipy.io.loadmat(mask_file)[\"Mask\"]\n",
    "    b0 = scipy.io.loadmat(b0_file)[\"B0map\"]\n",
    "    mask = scipy.ndimage.zoom(mask, (dim_x/64,dim_y/64,dim_z/44))\n",
    "    b0 = scipy.ndimage.zoom(b0, (dim_x/64,dim_y/64,dim_z/44))\n",
    "    mask, b0 = mask[::-1,:,::-1], b0[::-1,:,::-1]\n",
    "    return(b0, mask)"
   ]
  },
  {
   "cell_type": "markdown",
   "id": "678c50d1-8ed5-4519-b967-68047bc71a37",
   "metadata": {
    "tags": []
   },
   "source": [
    "**B0 Map**"
   ]
  },
  {
   "cell_type": "code",
   "execution_count": null,
   "id": "32b23912-d007-44ce-9cc4-e2713af3e7c2",
   "metadata": {
    "tags": []
   },
   "outputs": [],
   "source": [
    "b0_file = \"/neurospin/metric/ZainebAmor/February2024/cr170417_13022024/B0/R6/B0map.mat\"\n",
    "mask_file = \"/neurospin/metric/ZainebAmor/February2024/cr170417_13022024/B0/R6/Mask.mat\"\n",
    "B0,Mask = BO_map_and_Mask_gen(b0_file, mask_file, target_res=(1.,1.,1.))\n",
    "path_B0 = \"/neurospin/metric/ZainebAmor/February2024/cr170417_13022024/B0/R6/B0_R6\"\n",
    "path_Mask = \"/neurospin/metric/ZainebAmor/February2024/cr170417_13022024/B0/R6/Mask_R6\"\n",
    "#save_B0map(B0[:,:,2:-2], Mask[:,:,2:-2], path_B0, path_Mask)\n",
    "save_B0map(B0, Mask, path_B0, path_Mask)"
   ]
  },
  {
   "cell_type": "code",
   "execution_count": null,
   "id": "acac1b75-a4e5-4695-b15e-6d75e5667ee5",
   "metadata": {
    "tags": []
   },
   "outputs": [],
   "source": [
    "import matplotlib.pyplot as plt\n",
    "import numpy as np\n",
    "#vol = np.load(\"/neurospin/metric/ZainebAmor/Explore+Pilote2/Deuxi_Essai_Trajs/test.npy\")\n",
    "plt.figure(figsize=(10,5))\n",
    "plt.subplot(1,3,1)\n",
    "plt.imshow(B0[:,:,44])\n",
    "plt.colorbar()\n",
    "plt.subplot(1,3,2)\n",
    "plt.imshow(Mask[:,:,44])\n",
    "plt.subplot(1,3,3)\n",
    "#plt.imshow(abs(vol[:,:,44]))"
   ]
  }
 ],
 "metadata": {
  "kernelspec": {
   "display_name": "Python 3 (ipykernel)",
   "language": "python",
   "name": "python3"
  },
  "language_info": {
   "codemirror_mode": {
    "name": "ipython",
    "version": 3
   },
   "file_extension": ".py",
   "mimetype": "text/x-python",
   "name": "python",
   "nbconvert_exporter": "python",
   "pygments_lexer": "ipython3",
   "version": "3.10.4"
  }
 },
 "nbformat": 4,
 "nbformat_minor": 5
}
